{
 "cells": [
  {
   "cell_type": "markdown",
   "id": "8617be1d",
   "metadata": {},
   "source": [
    "# Detecting The Moving Cars"
   ]
  },
  {
   "cell_type": "markdown",
   "id": "96eedb43",
   "metadata": {},
   "source": [
    "### 1. Importing Required Libraries"
   ]
  },
  {
   "cell_type": "code",
   "execution_count": 3,
   "id": "f829bf39",
   "metadata": {},
   "outputs": [],
   "source": [
    "import cv2"
   ]
  },
  {
   "cell_type": "markdown",
   "id": "3c482858",
   "metadata": {},
   "source": [
    "### 2. Loading the Video"
   ]
  },
  {
   "cell_type": "code",
   "execution_count": 4,
   "id": "c79bc4d6",
   "metadata": {},
   "outputs": [],
   "source": [
    "# Loading the video file\n",
    "video_path = 'highway.mp4'"
   ]
  },
  {
   "cell_type": "markdown",
   "id": "1eac3e9a",
   "metadata": {},
   "source": [
    "### 3. \n",
    "<ul>\n",
    "    <li>Creating a Classifier using the HaarCascade_car xml file</li>\n",
    "    <li>Detecting the Moving Cars using the Classifier</li>\n",
    "    <li>Displaying the Results</li>\n",
    "</ul>"
   ]
  },
  {
   "cell_type": "code",
   "execution_count": 7,
   "id": "629c162a",
   "metadata": {},
   "outputs": [],
   "source": [
    "# Loading the Haar Cascade XML file for car detection\n",
    "car_cascade = cv2.CascadeClassifier('HaarCascade_cars.xml')\n",
    "\n",
    "# Creating a background subtractor\n",
    "fgbg = cv2.createBackgroundSubtractorMOG2()\n",
    "\n",
    "# For webcam video capture\n",
    "cap = cv2.VideoCapture(video_path)\n",
    "\n",
    "while True:\n",
    "    # Read a frame from the video source\n",
    "    ret, frame = cap.read()\n",
    "    \n",
    "    if not ret:\n",
    "        break\n",
    "    \n",
    "    # Applying background subtraction to detect moving objects\n",
    "    fgmask = fgbg.apply(frame)\n",
    "    \n",
    "    # Convert the frame to grayscale (required for Haar Cascade)\n",
    "    gray = cv2.cvtColor(frame, cv2.COLOR_BGR2GRAY)\n",
    "    \n",
    "    # Perform car detection\n",
    "    cars = car_cascade.detectMultiScale(gray, scaleFactor=1.1, minNeighbors=5, minSize=(30, 30))\n",
    "    \n",
    "    # Draw rectangles around the detected cars\n",
    "    for (x, y, w, h) in cars:\n",
    "        cv2.rectangle(frame, (x, y), (x + w, y + h), (0 , 255, 0), 2)\n",
    "        \n",
    "    # Display the resulting frame\n",
    "    cv2.imshow('Car Detection', frame)\n",
    "    \n",
    "    # Displaying the binary mask (background subtractor output)\n",
    "    cv2.imshow('Binary Mask', fgmask)\n",
    "    \n",
    "    # Exit the loop when the 'q' key is pressed\n",
    "    if cv2.waitKey(1) & 0xFF == ord('q'):\n",
    "        break\n",
    "    \n",
    "# Release the video source and close all OpenCV windows\n",
    "cap.release()\n",
    "cv2.destroyAllWindows()"
   ]
  }
 ],
 "metadata": {
  "kernelspec": {
   "display_name": "Python 3 (ipykernel)",
   "language": "python",
   "name": "python3"
  },
  "language_info": {
   "codemirror_mode": {
    "name": "ipython",
    "version": 3
   },
   "file_extension": ".py",
   "mimetype": "text/x-python",
   "name": "python",
   "nbconvert_exporter": "python",
   "pygments_lexer": "ipython3",
   "version": "3.11.4"
  }
 },
 "nbformat": 4,
 "nbformat_minor": 5
}
